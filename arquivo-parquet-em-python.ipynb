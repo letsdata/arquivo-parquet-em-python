{
 "cells": [
  {
   "cell_type": "markdown",
   "id": "8d7dbb06",
   "metadata": {},
   "source": [
    "# <a>Live 13 - Arquivos Parquet</a>\n",
    "\n",
    "Não, padawan, você não está no notebook errado, nada de piso parquet, estamos a falar (virando português já) do formato de arquivo colunar Apache Paquet!\n",
    "\n",
    "Vantagens em espaço ocupado, em tempo de consultas, o Apache Parquet faz parte do ecossistema Hadoop e é muito utilizado como forma de deixar os dados armazenados mais interoperáveis entre as diferentes plataformas e ferramentas.\n",
    "\n",
    "Como Python é lindo, basta a gente instalar uns poucos pacotes e... voilá!\n",
    "\n",
    "Então, chega de churumelas e vamos para algumas manipulações de arquivo parquet!"
   ]
  },
  {
   "cell_type": "code",
   "execution_count": null,
   "id": "115ca48e",
   "metadata": {},
   "outputs": [],
   "source": [
    "#!pip install pandas pyarrow"
   ]
  },
  {
   "cell_type": "code",
   "execution_count": null,
   "id": "2d0949c4",
   "metadata": {},
   "outputs": [],
   "source": [
    "import pandas as pd"
   ]
  },
  {
   "cell_type": "markdown",
   "id": "f23ae5c4",
   "metadata": {},
   "source": [
    "## <a> Primeira Grande Vantagem: espaço! </a> \n",
    "\n",
    "(e tempo também)"
   ]
  },
  {
   "cell_type": "code",
   "execution_count": null,
   "id": "5eb17e53",
   "metadata": {},
   "outputs": [],
   "source": [
    "# https://stackoverflow.com/questions/2104080/how-can-i-check-file-size-in-python\n",
    "\n",
    "def convert_bytes(num):\n",
    "    \"\"\"\n",
    "    this function will convert bytes to MB.... GB... etc\n",
    "    \"\"\"\n",
    "    for x in ['bytes', 'KB', 'MB', 'GB', 'TB']:\n",
    "        if num < 1024.0:\n",
    "            return \"%3.1f %s\" % (num, x)\n",
    "        num /= 1024.0"
   ]
  },
  {
   "cell_type": "code",
   "execution_count": null,
   "id": "452f6973",
   "metadata": {},
   "outputs": [],
   "source": [
    "import os\n",
    "\n",
    "csv_em_bytes = os.path.getsize(\"./data/iris_gigante.csv\")\n",
    "convert_bytes(csv_em_bytes)"
   ]
  },
  {
   "cell_type": "code",
   "execution_count": null,
   "id": "4fc623d7",
   "metadata": {},
   "outputs": [],
   "source": [
    "%%time\n",
    "\n",
    "df_gigante = pd.read_csv('./data/iris_gigante.csv')\n",
    "df_gigante.shape"
   ]
  },
  {
   "cell_type": "code",
   "execution_count": null,
   "id": "2428ec10",
   "metadata": {},
   "outputs": [],
   "source": [
    "df_gigante.to_parquet('./data/iris_gigante.parquet')"
   ]
  },
  {
   "cell_type": "code",
   "execution_count": null,
   "id": "b933e431",
   "metadata": {},
   "outputs": [],
   "source": [
    "parquet_em_bytes = os.path.getsize(\"./data/iris_gigante.parquet\")\n",
    "convert_bytes(parquet_em_bytes)"
   ]
  },
  {
   "cell_type": "code",
   "execution_count": null,
   "id": "c7fb6b8e",
   "metadata": {},
   "outputs": [],
   "source": [
    "%%time \n",
    "\n",
    "df_parquet = pd.read_parquet('./data/iris_gigante.parquet')\n",
    "df_parquet.shape"
   ]
  },
  {
   "cell_type": "code",
   "execution_count": null,
   "id": "affee011",
   "metadata": {},
   "outputs": [],
   "source": [
    "del df_parquet"
   ]
  },
  {
   "cell_type": "code",
   "execution_count": null,
   "id": "36ca62e4",
   "metadata": {},
   "outputs": [],
   "source": [
    "df_gigante.to_parquet('./data/iris_gigante.parquet.gzip', compression='GZIP')\n",
    "\n",
    "gzip_em_bytes = os.path.getsize('./data/iris_gigante.parquet.gzip')\n",
    "convert_bytes(parquet_em_bytes)"
   ]
  },
  {
   "cell_type": "code",
   "execution_count": null,
   "id": "44a2b135",
   "metadata": {},
   "outputs": [],
   "source": [
    "# https://en.wikipedia.org/wiki/Brotli\n",
    "\n",
    "df_gigante.to_parquet('./data/iris_gigante.parquet.brotli', compression='BROTLI')\n",
    "\n",
    "brotli_em_bytes = os.path.getsize('./data/iris_gigante.parquet.brotli')\n",
    "convert_bytes(brotli_em_bytes)"
   ]
  },
  {
   "cell_type": "markdown",
   "id": "e48303a0",
   "metadata": {},
   "source": [
    "## <a> Outra Vantagem: Metadados! </a> \n"
   ]
  },
  {
   "cell_type": "code",
   "execution_count": null,
   "id": "a4582170",
   "metadata": {},
   "outputs": [],
   "source": [
    "url_csv = 'https://raw.githubusercontent.com/mwaskom/seaborn-data/master/taxis.csv'"
   ]
  },
  {
   "cell_type": "code",
   "execution_count": null,
   "id": "80ddeb36",
   "metadata": {},
   "outputs": [],
   "source": [
    "df_taxis = pd.read_csv(url_csv)\n",
    "df_taxis.head()"
   ]
  },
  {
   "cell_type": "code",
   "execution_count": null,
   "id": "a44bf824",
   "metadata": {},
   "outputs": [],
   "source": [
    "df_taxis.info()"
   ]
  },
  {
   "cell_type": "code",
   "execution_count": null,
   "id": "602832c7",
   "metadata": {},
   "outputs": [],
   "source": [
    "# Tá bom, esqueci de falar quais as colunas!\n",
    "df_taxis = pd.read_csv(url_csv, parse_dates=['pickup', 'dropoff'])\n",
    "df_taxis.head()"
   ]
  },
  {
   "cell_type": "code",
   "execution_count": null,
   "id": "a67d289d",
   "metadata": {},
   "outputs": [],
   "source": [
    "df_taxis['pickup'].dt.strftime('%d/%m/%Y')"
   ]
  },
  {
   "cell_type": "code",
   "execution_count": null,
   "id": "ec2f2ff6",
   "metadata": {},
   "outputs": [],
   "source": [
    "df_taxis.to_csv('./data/taxis.csv')\n",
    "\n",
    "df_taxis_csv = pd.read_csv('./data/taxis.csv')\n",
    "df_taxis_csv['pickup'].dt.strftime('%d/%m/%Y')"
   ]
  },
  {
   "cell_type": "code",
   "execution_count": null,
   "id": "3a26cb6d",
   "metadata": {},
   "outputs": [],
   "source": [
    "df_taxis.to_parquet('./data/taxis.parquet')\n",
    "\n",
    "df_taxis_parquet = pd.read_parquet('./data/taxis.parquet')\n",
    "df_taxis_parquet['pickup'].dt.strftime('%d/%m/%Y')"
   ]
  },
  {
   "cell_type": "code",
   "execution_count": null,
   "id": "bbaa9ca3",
   "metadata": {},
   "outputs": [],
   "source": []
  },
  {
   "cell_type": "code",
   "execution_count": null,
   "id": "a39a372b",
   "metadata": {},
   "outputs": [],
   "source": []
  }
 ],
 "metadata": {
  "kernelspec": {
   "display_name": "Python 3 (ipykernel)",
   "language": "python",
   "name": "python3"
  },
  "language_info": {
   "codemirror_mode": {
    "name": "ipython",
    "version": 3
   },
   "file_extension": ".py",
   "mimetype": "text/x-python",
   "name": "python",
   "nbconvert_exporter": "python",
   "pygments_lexer": "ipython3",
   "version": "3.7.8"
  }
 },
 "nbformat": 4,
 "nbformat_minor": 5
}
